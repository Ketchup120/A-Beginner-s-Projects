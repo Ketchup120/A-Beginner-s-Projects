{
 "cells": [
  {
   "cell_type": "code",
   "execution_count": 1,
   "metadata": {},
   "outputs": [],
   "source": [
    "from IPython.display import clear_output\n",
    "def plyrchoice():\n",
    "    choice='wrong'\n",
    "    choices=['x','o']\n",
    "    while choice not in choices:\n",
    "        inp=input('Would u like to be x or o player1:')\n",
    "        inp=inp.lower()\n",
    "        clear_output()\n",
    "        if inp not in choices:\n",
    "            print('INVALID CHOICE,Please enter x or o:')\n",
    "        elif inp in choices:\n",
    "            choice=inp\n",
    "            return choice\n",
    "            break"
   ]
  },
  {
   "cell_type": "code",
   "execution_count": 2,
   "metadata": {},
   "outputs": [],
   "source": [
    "def display_board(pos):\n",
    "    clear_output()\n",
    "    print('   |   |')\n",
    "    print(' {} | {} | {} '.format(pos[7],pos[8],pos[9]))\n",
    "    print('   |   |')\n",
    "    print('___________')\n",
    "    print('   |   |')\n",
    "    print(' {} | {} | {} '.format(pos[4],pos[5],pos[6]))\n",
    "    print('   |   |')\n",
    "    print('___________')\n",
    "    print('   |   |')\n",
    "    print(' {} | {} | {} '.format(pos[1],pos[2],pos[3]))\n",
    "    print('   |   |')"
   ]
  },
  {
   "cell_type": "code",
   "execution_count": 6,
   "metadata": {},
   "outputs": [],
   "source": [
    "def maingame():\n",
    "    x=False\n",
    "    while x==False:\n",
    "        display_board(pos)\n",
    "        position1=int(input('Player 1 where do you want to place {}:'.format(choice1)))\n",
    "        if position1 not in [1,2,3,4,5,6,7,8,9]:\n",
    "            print(\"'INVALID POSITION ENTRY'Make sure to enter from 1 to 9\\nTHE GAME IS ENDING\")\n",
    "            break\n",
    "        pos[position1]=choice1\n",
    "        display_board(pos)\n",
    "        if (pos[1]==pos[2]==pos[3]!=' ' or pos[4]==pos[5]==pos[6]!=' ' or pos[7]==pos[8]==pos[9]!=' ' or pos[1]==pos[4]==pos[7]!=' ' or pos[2]==pos[5]==pos[8]!=' ' or pos[3]==pos[5]==pos[8]!=' ' or pos[3]==pos[6]==pos[9]!=' ' or pos[1]==pos[5]==pos[9]!=' ' or pos[3]==pos[5]==pos[7]!=' 'or pos[1] and pos[2] and pos[3] and pos[4] and pos[5] and pos[6] and pos[7] and pos[8] and pos[9]!=' '):\n",
    "            break\n",
    "        position2=int(input('Player 2 where do you want to place {}:'.format(choice2)))\n",
    "        if position2 not in [1,2,3,4,5,6,7,8,9]:\n",
    "            print(\"'INVALID POSITION ENTRY'Make sure to enter from 1 to 9\\nTHE GAME IS ENDING\")\n",
    "            break\n",
    "        pos[position2]=choice2\n",
    "        x=pos[1]==pos[2]==pos[3]!=' ' or pos[4]==pos[5]==pos[6]!=' ' or pos[7]==pos[8]==pos[9]!=' ' or pos[1]==pos[4]==pos[7]!=' ' or pos[2]==pos[5]==pos[8]!=' ' or pos[3]==pos[5]==pos[8]!=' ' or pos[3]==pos[6]==pos[9]!=' ' or pos[1]==pos[5]==pos[9]!=' ' or pos[3]==pos[5]==pos[7]!=' 'or pos[1] and pos[2] and pos[3] and pos[4] and pos[5] and pos[6] and pos[7] and pos[8] and pos[9]!=' '\n",
    "    if pos[1] and pos[2] and pos[3] and pos[4] and pos[5] and pos[6] and pos[7] and pos[8] and pos[9]!=' ':\n",
    "                                                                     print('The game is a draw:(')\n",
    "    elif pos[1]==pos[2]==pos[3]!=' ' or pos[4]==pos[5]==pos[6]!=' ' or pos[7]==pos[8]==pos[9]!=' ' or pos[1]==pos[4]==pos[7]!=' ' or pos[2]==pos[5]==pos[8]!=' ' or pos[3]==pos[5]==pos[8]!=' ' or pos[3]==pos[6]==pos[9]!=' ' or pos[1]==pos[5]==pos[9]!=' ' or pos[3]==pos[5]==pos[7]!=' ':  \n",
    "                                                                     print('Congragulations You won the game :)')\n",
    "    else:\n",
    "                                                                     pass\n",
    "        \n",
    "    "
   ]
  },
  {
   "cell_type": "code",
   "execution_count": 7,
   "metadata": {},
   "outputs": [],
   "source": [
    "def replay():\n",
    "    opt='wrong'\n",
    "    options=['y','n']\n",
    "    while opt not in options:\n",
    "        opt=input('Do you want to play again:[Y/N]').lower()\n",
    "        clear_output()\n",
    "        if opt in options:\n",
    "            break\n",
    "        print(\"'INVALID CHOICE'Make sure you chose 'Y' or 'N' \")\n",
    "    return opt    "
   ]
  },
  {
   "cell_type": "code",
   "execution_count": 8,
   "metadata": {},
   "outputs": [
    {
     "name": "stdout",
     "output_type": "stream",
     "text": [
      "   |   |\n",
      "   |   |   \n",
      "   |   |\n",
      "___________\n",
      "   |   |\n",
      "   |   |   \n",
      "   |   |\n",
      "___________\n",
      "   |   |\n",
      "   |   |   \n",
      "   |   |\n",
      "Player 1 where do you want to place o:o\n"
     ]
    },
    {
     "ename": "ValueError",
     "evalue": "invalid literal for int() with base 10: 'o'",
     "output_type": "error",
     "traceback": [
      "\u001b[1;31m---------------------------------------------------------------------------\u001b[0m",
      "\u001b[1;31mValueError\u001b[0m                                Traceback (most recent call last)",
      "\u001b[1;32m<ipython-input-8-775ffaf7cb54>\u001b[0m in \u001b[0;36m<module>\u001b[1;34m\u001b[0m\n\u001b[0;32m     12\u001b[0m             \u001b[1;32mbreak\u001b[0m\u001b[1;33m\u001b[0m\u001b[1;33m\u001b[0m\u001b[0m\n\u001b[0;32m     13\u001b[0m     \u001b[0mchoice2\u001b[0m\u001b[1;33m=\u001b[0m\u001b[0mc\u001b[0m\u001b[1;33m[\u001b[0m\u001b[1;36m0\u001b[0m\u001b[1;33m]\u001b[0m\u001b[1;33m\u001b[0m\u001b[1;33m\u001b[0m\u001b[0m\n\u001b[1;32m---> 14\u001b[1;33m     \u001b[0mmaingame\u001b[0m\u001b[1;33m(\u001b[0m\u001b[1;33m)\u001b[0m\u001b[1;33m\u001b[0m\u001b[1;33m\u001b[0m\u001b[0m\n\u001b[0m\u001b[0;32m     15\u001b[0m     \u001b[0mopt\u001b[0m\u001b[1;33m=\u001b[0m\u001b[0mreplay\u001b[0m\u001b[1;33m(\u001b[0m\u001b[1;33m)\u001b[0m\u001b[1;33m\u001b[0m\u001b[1;33m\u001b[0m\u001b[0m\n",
      "\u001b[1;32m<ipython-input-6-d0fe1fc6a0f7>\u001b[0m in \u001b[0;36mmaingame\u001b[1;34m()\u001b[0m\n\u001b[0;32m      3\u001b[0m     \u001b[1;32mwhile\u001b[0m \u001b[0mx\u001b[0m\u001b[1;33m==\u001b[0m\u001b[1;32mFalse\u001b[0m\u001b[1;33m:\u001b[0m\u001b[1;33m\u001b[0m\u001b[1;33m\u001b[0m\u001b[0m\n\u001b[0;32m      4\u001b[0m         \u001b[0mdisplay_board\u001b[0m\u001b[1;33m(\u001b[0m\u001b[0mpos\u001b[0m\u001b[1;33m)\u001b[0m\u001b[1;33m\u001b[0m\u001b[1;33m\u001b[0m\u001b[0m\n\u001b[1;32m----> 5\u001b[1;33m         \u001b[0mposition1\u001b[0m\u001b[1;33m=\u001b[0m\u001b[0mint\u001b[0m\u001b[1;33m(\u001b[0m\u001b[0minput\u001b[0m\u001b[1;33m(\u001b[0m\u001b[1;34m'Player 1 where do you want to place {}:'\u001b[0m\u001b[1;33m.\u001b[0m\u001b[0mformat\u001b[0m\u001b[1;33m(\u001b[0m\u001b[0mchoice1\u001b[0m\u001b[1;33m)\u001b[0m\u001b[1;33m)\u001b[0m\u001b[1;33m)\u001b[0m\u001b[1;33m\u001b[0m\u001b[1;33m\u001b[0m\u001b[0m\n\u001b[0m\u001b[0;32m      6\u001b[0m         \u001b[1;32mif\u001b[0m \u001b[0mposition1\u001b[0m \u001b[1;32mnot\u001b[0m \u001b[1;32min\u001b[0m \u001b[1;33m[\u001b[0m\u001b[1;36m1\u001b[0m\u001b[1;33m,\u001b[0m\u001b[1;36m2\u001b[0m\u001b[1;33m,\u001b[0m\u001b[1;36m3\u001b[0m\u001b[1;33m,\u001b[0m\u001b[1;36m4\u001b[0m\u001b[1;33m,\u001b[0m\u001b[1;36m5\u001b[0m\u001b[1;33m,\u001b[0m\u001b[1;36m6\u001b[0m\u001b[1;33m,\u001b[0m\u001b[1;36m7\u001b[0m\u001b[1;33m,\u001b[0m\u001b[1;36m8\u001b[0m\u001b[1;33m,\u001b[0m\u001b[1;36m9\u001b[0m\u001b[1;33m]\u001b[0m\u001b[1;33m:\u001b[0m\u001b[1;33m\u001b[0m\u001b[1;33m\u001b[0m\u001b[0m\n\u001b[0;32m      7\u001b[0m             \u001b[0mprint\u001b[0m\u001b[1;33m(\u001b[0m\u001b[1;34m\"'INVALID POSITION ENTRY'Make sure to enter from 1 to 9\\nTHE GAME IS ENDING\"\u001b[0m\u001b[1;33m)\u001b[0m\u001b[1;33m\u001b[0m\u001b[1;33m\u001b[0m\u001b[0m\n",
      "\u001b[1;31mValueError\u001b[0m: invalid literal for int() with base 10: 'o'"
     ]
    }
   ],
   "source": [
    "from IPython.display import clear_output\n",
    "t=0\n",
    "opt='y'\n",
    "choices=['x','o']\n",
    "pos=[' ',' ',' ',' ',' ',' ',' ',' ',' ',' ']\n",
    "choice1=plyrchoice()\n",
    "while opt=='y':\n",
    "    clear_output()\n",
    "    for c in choices:\n",
    "        if c!=choice1:\n",
    "            choice2=c\n",
    "            break\n",
    "    choice2=c[0]\n",
    "    maingame()\n",
    "    opt=replay()           "
   ]
  },
  {
   "cell_type": "code",
   "execution_count": null,
   "metadata": {},
   "outputs": [],
   "source": []
  }
 ],
 "metadata": {
  "kernelspec": {
   "display_name": "Python 3",
   "language": "python",
   "name": "python3"
  }
 },
 "nbformat": 4,
 "nbformat_minor": 4
}
